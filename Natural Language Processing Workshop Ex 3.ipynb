{
 "cells": [
  {
   "cell_type": "markdown",
   "metadata": {},
   "source": [
    "# Natural Language Processing Workshop Ex 3"
   ]
  },
  {
   "cell_type": "markdown",
   "metadata": {},
   "source": [
    "## Building a Model and Evaluating a Model"
   ]
  },
  {
   "cell_type": "code",
   "execution_count": 1,
   "metadata": {
    "collapsed": true
   },
   "outputs": [],
   "source": [
    "############### IMPORTS ###############\n",
    "# Import the necessary modules\n",
    "import pandas as pd\n",
    "import numpy as np\n",
    "import matplotlib.pyplot as plt\n",
    "\n",
    "# NLTK Modules\n",
    "import re\n",
    "from nltk.tokenize import TweetTokenizer, WhitespaceTokenizer\n",
    "from nltk.corpus import stopwords\n",
    "from nltk.stem import PorterStemmer\n",
    "from nltk.stem import WordNetLemmatizer\n",
    "from nltk import FreqDist\n",
    "from nltk import pos_tag\n",
    "\n",
    "from wordcloud import WordCloud\n",
    "\n",
    "#training Modules\n",
    "from sklearn.feature_extraction.text import CountVectorizer\n",
    "from sklearn.model_selection import train_test_split \n",
    "from sklearn.linear_model import LinearRegression\n",
    "from sklearn.naive_bayes import MultinomialNB\n",
    "\n",
    "#Evaluation Modules\n",
    "from sklearn.metrics import f1_score\n",
    "from sklearn.metrics import mean_squared_error\n",
    "from sklearn.metrics import confusion_matrix, classification_report, accuracy_score"
   ]
  },
  {
   "cell_type": "code",
   "execution_count": 2,
   "metadata": {},
   "outputs": [],
   "source": [
    "############### LOADING DATASET ###############\n",
    "#reading the dataset files\n",
    "train_df = pd.read_json(\"data/training_set.json\")\n",
    "test_df = pd.read_json(\"data/test_set.json\")"
   ]
  },
  {
   "cell_type": "markdown",
   "metadata": {},
   "source": [
    "## Step 1: Data Preprocessing"
   ]
  },
  {
   "cell_type": "markdown",
   "metadata": {},
   "source": [
    "#### processing steps\n",
    "- lowercase conversion\n",
    "- replace mentions\n",
    "- replace cashtag\n",
    "- replace urls\n",
    "- replace special unicode characters (&, > , < ,' )\n",
    "- removing stopwords\n",
    "- lemmatization"
   ]
  },
  {
   "cell_type": "code",
   "execution_count": 3,
   "metadata": {},
   "outputs": [],
   "source": [
    "############### Declaring Placeholder Variables  ###############\n",
    "\n",
    "rep = 0  #index for placeholders\n",
    "p_mentions = [\" @mentions \", \" \"]\n",
    "p_cashtag = [\" @cashtag \", \" \"]\n",
    "p_url = [\" @url \", \" \"]\n",
    "qmark = \" qmark \"  \n",
    "emark = \" emark \"\n",
    "\n",
    "stop_words = stopwords.words('english')\n",
    "stop_words.append('stock')\n",
    "stop_words.append('today')"
   ]
  },
  {
   "cell_type": "code",
   "execution_count": 4,
   "metadata": {
    "collapsed": true
   },
   "outputs": [],
   "source": [
    "############### FUNCTIONS  ###############\n",
    "\n",
    "w_tokenizer = WhitespaceTokenizer()\n",
    "\n",
    "lemmatizer = WordNetLemmatizer()\n",
    "def lemmatize_text(text):\n",
    "    return ' '.join([lemmatizer.lemmatize(w) for w in w_tokenizer.tokenize(text)])\n",
    "\n",
    "stemmer = PorterStemmer()\n",
    "def stemming_text(text):\n",
    "    return ' '.join([stemmer.stem(w) for w in w_tokenizer.tokenize(text)])\n",
    "\n"
   ]
  },
  {
   "cell_type": "code",
   "execution_count": 5,
   "metadata": {},
   "outputs": [],
   "source": [
    "############### DATA CLEANING - Training Data ###############\n",
    "# Convert to lower Case\n",
    "train_df['tweet'] = train_df['tweet'].str.lower()\n",
    "# Remove Mentions\n",
    "train_df['tweet'] = train_df['tweet'].str.replace('([@][\\w_-]+)', p_mentions[rep], case=False)\n",
    "# Remove CashTag or Replace CashTag with Placeholder\n",
    "train_df['tweet'] = train_df['tweet'].str.replace('([$][a-z]+)', p_cashtag[rep], case=False)\n",
    "# Remove URL \n",
    "train_df['tweet'] = train_df['tweet'].str.replace('http\\S+|www.\\S+', p_url[rep], case=False)\n",
    "# Remove Special Characters (&,',>,<)\n",
    "# Emoticon/Emoji Analysis can be take into account with Emoji Corpus\n",
    "train_df['tweet'] = train_df['tweet'].str.replace('&amp', \" & \", case=False)\n",
    "train_df['tweet'] = train_df['tweet'].str.replace('&#39;', \"'\", case=False)\n",
    "test_df['tweet'] = test_df['tweet'].str.replace('&gt;', \" \", case=False)\n",
    "test_df['tweet'] = test_df['tweet'].str.replace('&lt;', \" \", case=False)\n",
    "# Special Treatment for ! and ? as it may place special meaning\n",
    "train_df['tweet'] = train_df['tweet'].str.replace('\\?', qmark, case=False)\n",
    "train_df['tweet'] = train_df['tweet'].str.replace('!', emark, case=False)\n",
    "#Stopwords Removal\n",
    "train_df['tweet'] = train_df['tweet'].apply(lambda x: ' '.join([word for word in x.split() if word not in stop_words]))\n",
    "#Stemming\n",
    "# train_df['tweet'] = train_df['tweet'].apply(stemming_text)\n",
    "#Lemmatize\n",
    "train_df['tweet'] = train_df['tweet'].apply(lemmatize_text)"
   ]
  },
  {
   "cell_type": "code",
   "execution_count": 6,
   "metadata": {},
   "outputs": [],
   "source": [
    "############### DATA CLEANING - Testing Data  ###############\n",
    "#preprocessing steps taken for test dataset is the same for training dataset\n",
    "\n",
    "test_df['tweet'] = test_df['tweet'].str.lower()\n",
    "test_df['tweet'] = test_df['tweet'].str.replace('([@][\\w_-]+)', p_mentions[rep], case=False)\n",
    "test_df['tweet'] = test_df['tweet'].str.replace('([$][a-z]+)', p_cashtag[rep], case=False)\n",
    "test_df['tweet'] = test_df['tweet'].str.replace('http\\S+|www.\\S+',  p_url[rep], case=False)\n",
    "test_df['tweet'] = test_df['tweet'].str.replace('&amp', \" & \", case=False)\n",
    "test_df['tweet'] = test_df['tweet'].str.replace('&#39;', \"'\", case=False)\n",
    "test_df['tweet'] = test_df['tweet'].str.replace('&gt;', \" \", case=False)\n",
    "test_df['tweet'] = test_df['tweet'].str.replace('&lt;', \" \", case=False)\n",
    "test_df['tweet'] = test_df['tweet'].str.replace('\\?', qmark, case=False)\n",
    "test_df['tweet'] = test_df['tweet'].str.replace('!', emark, case=False)\n",
    "test_df['tweet'] = test_df['tweet'].apply(lambda x: ' '.join([word for word in x.split() if word not in stop_words]))\n",
    "# test_df['tweet'] = test_df['tweet'].apply(stemming_text)\n",
    "test_df['tweet'] = test_df['tweet'].apply(lemmatize_text)"
   ]
  },
  {
   "cell_type": "markdown",
   "metadata": {},
   "source": [
    "## Step 2: Spliting Test and Train Dataset"
   ]
  },
  {
   "cell_type": "markdown",
   "metadata": {},
   "source": [
    "############### Spliting Data Set (Train, Test, Validation)  ###############\n",
    "X_train, X_test, y_train, y_test = train_test_split(X , y, test_size=0.33, random_state=42 )"
   ]
  },
  {
   "cell_type": "markdown",
   "metadata": {},
   "source": [
    "## Step 3: Choosing the Right Model"
   ]
  },
  {
   "cell_type": "code",
   "execution_count": 7,
   "metadata": {
    "collapsed": true
   },
   "outputs": [],
   "source": [
    "############### TRANSFORIMING MODEL WITH COUNTVECTORIZER  ###############\n",
    "\n",
    "cv = CountVectorizer( analyzer='word',\n",
    "                      ngram_range=(1,3),\n",
    "                      stop_words = 'english')\n",
    "\n",
    "model = cv.fit_transform(list(train_df[\"tweet\"]))\n",
    "\n",
    "cv.fit(train_df[\"tweet\"])\n",
    "X_train = cv.transform(train_df[\"tweet\"])\n",
    "X_test = cv.transform(test_df[\"tweet\"])\n",
    "y_train = train_df[\"sentiment\"]\n",
    "y_test = test_df[\"sentiment\"]\n",
    "\n",
    "\n",
    "############### TRAINING MODEL WITH LINEAR REGRESSION  ###############\n",
    "#linear regression model\n",
    "from sklearn.linear_model import LinearRegression\n",
    "log_model = LinearRegression(fit_intercept=True)\n",
    "log_model = log_model.fit(X_train, y_train)\n",
    "y_pred = log_model.predict(X_test)"
   ]
  },
  {
   "cell_type": "code",
   "execution_count": 8,
   "metadata": {},
   "outputs": [],
   "source": [
    "############### TRANSFORIMING MODEL WITH COUNTVECTORIZER  ###############\n",
    "choices = ['neutral', 'bullish', 'bearish']\n",
    "\n",
    "trainconditions = [\n",
    "    (train_df['sentiment'] == 0) , \n",
    "    (train_df['sentiment'] <  0) ,\n",
    "    (train_df['sentiment'] >  0)]\n",
    "\n",
    "testconditions = [\n",
    "    (test_df['sentiment'] == 0) , \n",
    "    (test_df['sentiment'] <  0) ,\n",
    "    (test_df['sentiment'] >  0)]\n",
    "\n",
    "train_df['classes'] = np.select(trainconditions, choices)\n",
    "test_df['classes'] = np.select(testconditions, choices)\n",
    "\n",
    "\n",
    "cv2 = CountVectorizer( analyzer='word',\n",
    "                      ngram_range=(1,3),\n",
    "                      stop_words = 'english')\n",
    "\n",
    "model2 = cv2.fit_transform(list(train_df[\"tweet\"]))\n",
    "\n",
    "cv2.fit(train_df[\"tweet\"])\n",
    "X_train2 = cv2.transform(train_df[\"tweet\"])\n",
    "X_test2 = cv2.transform(test_df[\"tweet\"])\n",
    "y_train2 = train_df[\"classes\"]\n",
    "y_test2 = test_df[\"classes\"]\n",
    "\n",
    "\n",
    "############### TRAINING MODEL WITH MultinomialNB  ###############\n",
    "\n",
    "# Instantiate a Multinomial Naive Bayes classifier: nb_classifier\n",
    "nb_classifier = MultinomialNB()\n",
    "\n",
    "# Fit the classifier to the training data\n",
    "nb_classifier.fit(X_train2, y_train2)\n",
    "\n",
    "# Create the predicted tags: pred\n",
    "nb_classifier_pred = nb_classifier.predict(X_test2)"
   ]
  },
  {
   "cell_type": "markdown",
   "metadata": {},
   "source": [
    "## Step 4: Evaluation of Model"
   ]
  },
  {
   "cell_type": "code",
   "execution_count": 9,
   "metadata": {
    "collapsed": true
   },
   "outputs": [],
   "source": [
    "def assignClasses(data): \n",
    "    value = list()\n",
    "    for i in data: \n",
    "        if i > 0:\n",
    "            value.append(\"bullish\")\n",
    "        elif i < 0:\n",
    "            value.append(\"bearish\")\n",
    "        else:\n",
    "            value.append(\"neutral\")\n",
    "    \n",
    "    return value "
   ]
  },
  {
   "cell_type": "code",
   "execution_count": 10,
   "metadata": {},
   "outputs": [
    {
     "name": "stdout",
     "output_type": "stream",
     "text": [
      "MSE:  0.09045563275319476\n",
      "\n",
      "\n",
      "F1 Macro Avg:  0.5161834964696845\n",
      "F1 Micro Avg:  0.7949526813880127\n",
      "\n",
      "\n",
      "Classification Report  \n",
      "              precision    recall  f1-score   support\n",
      "\n",
      "    bearish       0.78      0.63      0.70       221\n",
      "    bullish       0.80      0.91      0.85       401\n",
      "    neutral       0.00      0.00      0.00        12\n",
      "\n",
      "avg / total       0.78      0.79      0.78       634\n",
      "\n"
     ]
    },
    {
     "name": "stderr",
     "output_type": "stream",
     "text": [
      "D:\\Anaconda\\lib\\site-packages\\sklearn\\metrics\\classification.py:1135: UndefinedMetricWarning: F-score is ill-defined and being set to 0.0 in labels with no predicted samples.\n",
      "  'precision', 'predicted', average, warn_for)\n",
      "D:\\Anaconda\\lib\\site-packages\\sklearn\\metrics\\classification.py:1135: UndefinedMetricWarning: Precision and F-score are ill-defined and being set to 0.0 in labels with no predicted samples.\n",
      "  'precision', 'predicted', average, warn_for)\n"
     ]
    }
   ],
   "source": [
    "############### EVALUTATING MODEL WITH LINEAR REGRESSION  ###############\n",
    "n_y_test = assignClasses(y_test)\n",
    "n_y_pred = assignClasses(y_pred)\n",
    "\n",
    "print(\"MSE: \", mean_squared_error(y_test, y_pred))\n",
    "print('\\n')\n",
    "print(\"F1 Macro Avg: \", f1_score(n_y_test, n_y_pred, average='macro'))\n",
    "print(\"F1 Micro Avg: \", f1_score(n_y_test, n_y_pred, average='micro'))\n",
    "print('\\n')\n",
    "print(\"Classification Report  \\n\", classification_report(n_y_test, n_y_pred))"
   ]
  },
  {
   "cell_type": "code",
   "execution_count": 11,
   "metadata": {},
   "outputs": [
    {
     "name": "stdout",
     "output_type": "stream",
     "text": [
      "0.7539432176656151\n",
      "[[  0   2  10]\n",
      " [  0  93 128]\n",
      " [  0  16 385]]\n",
      "\n",
      "\n",
      "F1 Macro Avg:  0.464524765729585\n",
      "F1 Micro Avg:  0.7539432176656151\n",
      "\n",
      "\n",
      "Classification Report  \n",
      "              precision    recall  f1-score   support\n",
      "\n",
      "    bearish       0.74      0.96      0.83       401\n",
      "    bullish       0.84      0.42      0.56       221\n",
      "    neutral       0.00      0.00      0.00        12\n",
      "\n",
      "avg / total       0.76      0.75      0.72       634\n",
      "\n"
     ]
    },
    {
     "name": "stderr",
     "output_type": "stream",
     "text": [
      "D:\\Anaconda\\lib\\site-packages\\sklearn\\metrics\\classification.py:1135: UndefinedMetricWarning: F-score is ill-defined and being set to 0.0 in labels with no predicted samples.\n",
      "  'precision', 'predicted', average, warn_for)\n",
      "D:\\Anaconda\\lib\\site-packages\\sklearn\\metrics\\classification.py:1135: UndefinedMetricWarning: Precision and F-score are ill-defined and being set to 0.0 in labels with no predicted samples.\n",
      "  'precision', 'predicted', average, warn_for)\n"
     ]
    }
   ],
   "source": [
    "############### EVALUATION MODEL WITH MultinomialNB  ###############\n",
    "\n",
    "# Calculate the accuracy score: score\n",
    "score = accuracy_score(y_test2, nb_classifier_pred)\n",
    "print(score)\n",
    "\n",
    "# Calculate the confusion matrix: cm\n",
    "cm = confusion_matrix(y_test2, nb_classifier_pred, labels=['neutral', 'bullish', 'bearish'])\n",
    "print(cm)\n",
    "\n",
    "print('\\n')\n",
    "print(\"F1 Macro Avg: \", f1_score(y_test2, nb_classifier_pred, average='macro'))\n",
    "print(\"F1 Micro Avg: \", f1_score(y_test2, nb_classifier_pred, average='micro'))\n",
    "print('\\n')\n",
    "print(\"Classification Report  \\n\", classification_report(y_test2, nb_classifier_pred))"
   ]
  }
 ],
 "metadata": {
  "kernelspec": {
   "display_name": "Python 3",
   "language": "python",
   "name": "python3"
  },
  "language_info": {
   "codemirror_mode": {
    "name": "ipython",
    "version": 3
   },
   "file_extension": ".py",
   "mimetype": "text/x-python",
   "name": "python",
   "nbconvert_exporter": "python",
   "pygments_lexer": "ipython3",
   "version": "3.6.3"
  }
 },
 "nbformat": 4,
 "nbformat_minor": 2
}
